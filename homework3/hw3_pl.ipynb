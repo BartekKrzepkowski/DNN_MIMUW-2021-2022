{
 "cells": [
  {
   "cell_type": "code",
   "execution_count": null,
   "id": "juvenile-reward",
   "metadata": {},
   "outputs": [],
   "source": [
    "# get needed libraries\n",
    "!pip install clearml\n",
    "!pip install gdown\n",
    "!pip install pytorch-lightning"
   ]
  },
  {
   "cell_type": "code",
   "execution_count": null,
   "id": "optional-signal",
   "metadata": {},
   "outputs": [],
   "source": [
    "# download dataset\n",
    "!gdown https://drive.google.com/uc?id=1hK-3iiRPlbePb99Fe-34LJNZ5yB-nduq\n",
    "!tar -xvzf imdb_dataset.gz"
   ]
  },
  {
   "cell_type": "code",
   "execution_count": 1,
   "id": "german-penalty",
   "metadata": {},
   "outputs": [],
   "source": [
    "%load_ext autoreload\n",
    "%autoreload 2"
   ]
  },
  {
   "cell_type": "markdown",
   "id": "comfortable-synthetic",
   "metadata": {},
   "source": [
    "# Task definition\n",
    "Implement LSTM Sentiment Tagger for imdb reviews dataset.\n",
    "\n",
    "1. (5pt) Fill missing code below\n",
    "    * 1pt implement vectorization\n",
    "    * 2pt implement \\_\\_init\\_\\_ and forward methods of models\n",
    "    * 2pt implement collate function\n",
    "2. (4pt) Implement training loop, choose proper loss function, use clear ml for max points.\n",
    "    * 2pts is a baseline for well written, working code\n",
    "    * 2pts if clear ml used properly\n",
    "3. (3pt) Train the models (find proper hyperparams). Make sure you are not overfitting or underfitting. Visualize training of your best model (plot training, and test loss/accuracy in time). Your model should reach at least 87% accuracy. For max points it should exceed 89%. \n",
    "    * 1pt for accuracy above 89%\n",
    "    * 1pt for accuracy above 87%\n",
    "    * 1pt for visualizations\n",
    "\n",
    "Remarks:\n",
    "* Use embeddings of size 50\n",
    "* Use 0.5 threshold when computing accuracy.\n",
    "* Use supplied dataset for training and evaluation.\n",
    "* You do not have to use validation set.\n",
    "* You should monitor overfitting during training.\n",
    "* For max points use clear ml to store and manage logs from your experiments. \n",
    "* We encourage to use pytorch lightning library (Addtional point for using it - however the sum must not exceed 12)\n",
    "\n",
    "[Clear ML documentation](https://clear.ml/docs/latest/docs/)\n",
    "\n",
    "[Clear ML notebook exercise from bootcamp](https://colab.research.google.com/drive/1wtLb4gg8beLS7smcyJlOZppn6_rQvSxL?usp=sharing)"
   ]
  },
  {
   "cell_type": "code",
   "execution_count": 2,
   "id": "toxic-cartoon",
   "metadata": {},
   "outputs": [],
   "source": [
    "import torch\n",
    "from pytorch_lightning import LightningModule, Trainer"
   ]
  },
  {
   "cell_type": "markdown",
   "id": "genetic-development",
   "metadata": {},
   "source": [
    "# Set Clear-ML"
   ]
  },
  {
   "cell_type": "code",
   "execution_count": 3,
   "id": "green-particular",
   "metadata": {},
   "outputs": [
    {
     "name": "stdout",
     "output_type": "stream",
     "text": [
      "ClearML Task: created new task id=206357c5dd1445e789ff296f1ee1984a\n",
      "2022-01-15 22:46:39,552 - clearml.Repository Detection - WARNING - Failed accessing the jupyter server: 403 Client Error: Forbidden for url: http://localhost:8888/api/sessions\n",
      "2022-01-15 22:46:39,573 - clearml.Task - INFO - No repository found, storing script code instead\n",
      "ClearML results page: https://app.community.clear.ml/projects/4305c327a98d4ab5b524dc97d13a87a9/experiments/206357c5dd1445e789ff296f1ee1984a/output/log\n"
     ]
    }
   ],
   "source": [
    "from clearml import Task\n",
    "PROJECT_NAME = 'pt_pl'\n",
    "TASK_NAME = 0\n",
    "\n",
    "PADDING_VALUE = 0\n",
    "params_clearml = {\n",
    "    'web_host': 'https://app.community.clear.ml',\n",
    "    'api_host': 'https://api.community.clear.ml',\n",
    "    'files_host': 'https://files.community.clear.ml',\n",
    "    'key': '7DW8R5K7T7L0UTGABC4R',\n",
    "    'secret': 'kKfG5P9EZcLfsyXIpdaNpHePBA3pOTRcVbbFpCqikxm3PRxFZS' \n",
    "}\n",
    "Task.set_credentials(**params_clearml)\n",
    "task = Task.init(project_name=f'{PROJECT_NAME}', task_name=f'run_{TASK_NAME}')"
   ]
  },
  {
   "cell_type": "markdown",
   "id": "ancient-embassy",
   "metadata": {},
   "source": [
    "# Set TensorBoard"
   ]
  },
  {
   "cell_type": "code",
   "execution_count": 1,
   "id": "novel-chair",
   "metadata": {},
   "outputs": [
    {
     "data": {
      "text/html": [
       "\n",
       "      <iframe id=\"tensorboard-frame-c92370ef428f6d18\" width=\"100%\" height=\"800\" frameborder=\"0\">\n",
       "      </iframe>\n",
       "      <script>\n",
       "        (function() {\n",
       "          const frame = document.getElementById(\"tensorboard-frame-c92370ef428f6d18\");\n",
       "          const url = new URL(\"/\", window.location);\n",
       "          const port = 6006;\n",
       "          if (port) {\n",
       "            url.port = port;\n",
       "          }\n",
       "          frame.src = url;\n",
       "        })();\n",
       "      </script>\n",
       "    "
      ],
      "text/plain": [
       "<IPython.core.display.HTML object>"
      ]
     },
     "metadata": {},
     "output_type": "display_data"
    }
   ],
   "source": [
    "from pytorch_lightning.loggers import TensorBoardLogger\n",
    "\n",
    "# logger = TensorBoardLogger(\"tb_logs\", name=\"my_model\")\n",
    "\n",
    "%load_ext tensorboard\n",
    "%tensorboard --logdir lightning_logs/"
   ]
  },
  {
   "cell_type": "markdown",
   "id": "internal-creature",
   "metadata": {},
   "source": [
    "# Get Data"
   ]
  },
  {
   "cell_type": "code",
   "execution_count": 4,
   "id": "divided-stake",
   "metadata": {},
   "outputs": [],
   "source": [
    "from data import get_loaders\n",
    "AVAIL_GPUS = max(1, torch.cuda.device_count())\n",
    "BATCH_SIZE = 128 if AVAIL_GPUS else 64\n",
    "PATH_DATASET = 'imdb_dataset.csv'\n",
    "\n",
    "loaders, vocab_size = get_loaders(PATH_DATASET, batch_size=BATCH_SIZE)"
   ]
  },
  {
   "cell_type": "markdown",
   "id": "preceding-album",
   "metadata": {},
   "source": [
    "# Get Model"
   ]
  },
  {
   "cell_type": "code",
   "execution_count": 5,
   "id": "afraid-constitution",
   "metadata": {},
   "outputs": [],
   "source": [
    "from model import LitLSTMSentimentTagger\n",
    "\n",
    "params_model = {'embedding_dim': 50, 'hidden_dim': 128, 'vocab_size': vocab_size, 'classes': 1}\n",
    "task.connect(params_model)\n",
    "\n",
    "model = LitLSTMSentimentTagger(**params_model)"
   ]
  },
  {
   "cell_type": "markdown",
   "id": "powerful-consistency",
   "metadata": {},
   "source": [
    "# Train"
   ]
  },
  {
   "cell_type": "code",
   "execution_count": 6,
   "id": "empty-family",
   "metadata": {},
   "outputs": [
    {
     "name": "stderr",
     "output_type": "stream",
     "text": [
      "GPU available: True, used: True\n",
      "TPU available: False, using: 0 TPU cores\n",
      "IPU available: False, using: 0 IPUs\n",
      "LOCAL_RANK: 0 - CUDA_VISIBLE_DEVICES: [0]\n",
      "Missing logger folder: /home/bartekkrzepkowski/Pulpit/Zimowy/GSN/hw/hw3/hw3/hw3_pl_bk332269/lightning_logs\n",
      "\n",
      "  | Name            | Type              | Params\n",
      "------------------------------------------------------\n",
      "0 | word_embeddings | Embedding         | 4.4 M \n",
      "1 | lstm            | LSTM              | 92.2 K\n",
      "2 | hidden2tag      | Linear            | 129   \n",
      "3 | criterion       | BCEWithLogitsLoss | 0     \n",
      "4 | accuracy        | Accuracy          | 0     \n",
      "------------------------------------------------------\n",
      "4.4 M     Trainable params\n",
      "0         Non-trainable params\n",
      "4.4 M     Total params\n",
      "17.775    Total estimated model params size (MB)\n"
     ]
    },
    {
     "data": {
      "application/vnd.jupyter.widget-view+json": {
       "model_id": "",
       "version_major": 2,
       "version_minor": 0
      },
      "text/plain": [
       "Validation sanity check: 0it [00:00, ?it/s]"
      ]
     },
     "metadata": {},
     "output_type": "display_data"
    },
    {
     "data": {
      "application/vnd.jupyter.widget-view+json": {
       "model_id": "864f7e60b7fe4f629bb6c8809260f5fd",
       "version_major": 2,
       "version_minor": 0
      },
      "text/plain": [
       "Training: 0it [00:00, ?it/s]"
      ]
     },
     "metadata": {},
     "output_type": "display_data"
    },
    {
     "data": {
      "application/vnd.jupyter.widget-view+json": {
       "model_id": "",
       "version_major": 2,
       "version_minor": 0
      },
      "text/plain": [
       "Validating: 0it [00:00, ?it/s]"
      ]
     },
     "metadata": {},
     "output_type": "display_data"
    },
    {
     "data": {
      "application/vnd.jupyter.widget-view+json": {
       "model_id": "",
       "version_major": 2,
       "version_minor": 0
      },
      "text/plain": [
       "Validating: 0it [00:00, ?it/s]"
      ]
     },
     "metadata": {},
     "output_type": "display_data"
    },
    {
     "data": {
      "application/vnd.jupyter.widget-view+json": {
       "model_id": "",
       "version_major": 2,
       "version_minor": 0
      },
      "text/plain": [
       "Validating: 0it [00:00, ?it/s]"
      ]
     },
     "metadata": {},
     "output_type": "display_data"
    },
    {
     "data": {
      "application/vnd.jupyter.widget-view+json": {
       "model_id": "",
       "version_major": 2,
       "version_minor": 0
      },
      "text/plain": [
       "Validating: 0it [00:00, ?it/s]"
      ]
     },
     "metadata": {},
     "output_type": "display_data"
    },
    {
     "data": {
      "application/vnd.jupyter.widget-view+json": {
       "model_id": "",
       "version_major": 2,
       "version_minor": 0
      },
      "text/plain": [
       "Validating: 0it [00:00, ?it/s]"
      ]
     },
     "metadata": {},
     "output_type": "display_data"
    },
    {
     "data": {
      "application/vnd.jupyter.widget-view+json": {
       "model_id": "",
       "version_major": 2,
       "version_minor": 0
      },
      "text/plain": [
       "Validating: 0it [00:00, ?it/s]"
      ]
     },
     "metadata": {},
     "output_type": "display_data"
    },
    {
     "data": {
      "application/vnd.jupyter.widget-view+json": {
       "model_id": "",
       "version_major": 2,
       "version_minor": 0
      },
      "text/plain": [
       "Validating: 0it [00:00, ?it/s]"
      ]
     },
     "metadata": {},
     "output_type": "display_data"
    },
    {
     "data": {
      "application/vnd.jupyter.widget-view+json": {
       "model_id": "",
       "version_major": 2,
       "version_minor": 0
      },
      "text/plain": [
       "Validating: 0it [00:00, ?it/s]"
      ]
     },
     "metadata": {},
     "output_type": "display_data"
    },
    {
     "data": {
      "application/vnd.jupyter.widget-view+json": {
       "model_id": "",
       "version_major": 2,
       "version_minor": 0
      },
      "text/plain": [
       "Validating: 0it [00:00, ?it/s]"
      ]
     },
     "metadata": {},
     "output_type": "display_data"
    },
    {
     "data": {
      "application/vnd.jupyter.widget-view+json": {
       "model_id": "",
       "version_major": 2,
       "version_minor": 0
      },
      "text/plain": [
       "Validating: 0it [00:00, ?it/s]"
      ]
     },
     "metadata": {},
     "output_type": "display_data"
    },
    {
     "data": {
      "application/vnd.jupyter.widget-view+json": {
       "model_id": "",
       "version_major": 2,
       "version_minor": 0
      },
      "text/plain": [
       "Validating: 0it [00:00, ?it/s]"
      ]
     },
     "metadata": {},
     "output_type": "display_data"
    },
    {
     "data": {
      "application/vnd.jupyter.widget-view+json": {
       "model_id": "",
       "version_major": 2,
       "version_minor": 0
      },
      "text/plain": [
       "Validating: 0it [00:00, ?it/s]"
      ]
     },
     "metadata": {},
     "output_type": "display_data"
    },
    {
     "data": {
      "application/vnd.jupyter.widget-view+json": {
       "model_id": "",
       "version_major": 2,
       "version_minor": 0
      },
      "text/plain": [
       "Validating: 0it [00:00, ?it/s]"
      ]
     },
     "metadata": {},
     "output_type": "display_data"
    },
    {
     "data": {
      "application/vnd.jupyter.widget-view+json": {
       "model_id": "",
       "version_major": 2,
       "version_minor": 0
      },
      "text/plain": [
       "Validating: 0it [00:00, ?it/s]"
      ]
     },
     "metadata": {},
     "output_type": "display_data"
    },
    {
     "data": {
      "application/vnd.jupyter.widget-view+json": {
       "model_id": "",
       "version_major": 2,
       "version_minor": 0
      },
      "text/plain": [
       "Validating: 0it [00:00, ?it/s]"
      ]
     },
     "metadata": {},
     "output_type": "display_data"
    }
   ],
   "source": [
    "trainer = Trainer(\n",
    "    gpus=AVAIL_GPUS,\n",
    "    max_epochs=15,\n",
    "#     logger=logger\n",
    ")\n",
    "trainer.fit(model, loaders['train'], loaders['test'])"
   ]
  },
  {
   "cell_type": "code",
   "execution_count": 10,
   "id": "patient-factory",
   "metadata": {},
   "outputs": [
    {
     "data": {
      "text/plain": [
       "{'Loss': {'Train': {'last': 0.23891522, 'min': 0.19881018, 'max': 0.69051886},\n",
       "  'Val': {'last': 0.26201195, 'min': 0.26201195, 'max': 0.69303733}},\n",
       " 'Acc': {'Train': {'last': 0.9140625, 'min': 0.5546875, 'max': 0.9375},\n",
       "  'Val': {'last': 0.8989, 'min': 0.60748, 'max': 0.8989}},\n",
       " 'epoch': {'epoch': {'last': 9.0, 'min': 0.0, 'max': 9.0}},\n",
       " ':monitor:machine': {'network_rx_mbs': {'last': 0.026,\n",
       "   'min': 0.01,\n",
       "   'max': 0.109},\n",
       "  'io_read_mbs': {'last': 0.008, 'min': 0.0, 'max': 0.119},\n",
       "  'io_write_mbs': {'last': 0.265, 'min': 0.028, 'max': 2.0},\n",
       "  'memory_free_gb': {'last': 7.046, 'min': 7.035, 'max': 7.848},\n",
       "  'cpu_usage': {'last': 12.203, 'min': 8.958, 'max': 33.271},\n",
       "  'network_tx_mbs': {'last': 0.008, 'min': 0.005, 'max': 0.039},\n",
       "  'memory_used_gb': {'last': 2.755, 'min': 1.232, 'max': 2.755},\n",
       "  'cpu_temperature': {'last': 60.523, 'min': 60.523, 'max': 92.407},\n",
       "  'disk_free_percent': {'last': 23.7, 'min': 23.7, 'max': 23.8}},\n",
       " ':monitor:gpu': {'gpu_0_temperature': {'last': 55.139,\n",
       "   'min': 55.139,\n",
       "   'max': 80.068},\n",
       "  'gpu_0_utilization': {'last': 9.258, 'min': 5.224, 'max': 98.22},\n",
       "  'gpu_0_mem_used_gb': {'last': 0.802, 'min': 0.802, 'max': 4.767},\n",
       "  'gpu_0_mem_usage': {'last': 16.123, 'min': 16.123, 'max': 82.922},\n",
       "  'gpu_0_mem_free_gb': {'last': 4.979, 'min': 1.014, 'max': 4.979}}}"
      ]
     },
     "execution_count": 10,
     "metadata": {},
     "output_type": "execute_result"
    }
   ],
   "source": [
    "task.get_last_scalar_metrics()"
   ]
  },
  {
   "cell_type": "code",
   "execution_count": 7,
   "id": "drawn-webmaster",
   "metadata": {},
   "outputs": [],
   "source": [
    "task"
   ]
  },
  {
   "cell_type": "code",
   "execution_count": null,
   "id": "independent-integer",
   "metadata": {},
   "outputs": [],
   "source": []
  }
 ],
 "metadata": {
  "kernelspec": {
   "display_name": "tldl",
   "language": "python",
   "name": "tldl"
  },
  "language_info": {
   "codemirror_mode": {
    "name": "ipython",
    "version": 3
   },
   "file_extension": ".py",
   "mimetype": "text/x-python",
   "name": "python",
   "nbconvert_exporter": "python",
   "pygments_lexer": "ipython3",
   "version": "3.8.10"
  }
 },
 "nbformat": 4,
 "nbformat_minor": 5
}
